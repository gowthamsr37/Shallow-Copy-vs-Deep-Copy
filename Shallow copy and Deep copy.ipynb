{
 "cells": [
  {
   "cell_type": "markdown",
   "id": "eb967749",
   "metadata": {},
   "source": [
    "# Equal to (=) operation"
   ]
  },
  {
   "cell_type": "code",
   "execution_count": 1,
   "id": "543d0f06",
   "metadata": {},
   "outputs": [],
   "source": [
    "lst1  = [1,2,3,4]\n",
    "lst2= lst1"
   ]
  },
  {
   "cell_type": "code",
   "execution_count": 3,
   "id": "1f8d710e",
   "metadata": {},
   "outputs": [
    {
     "data": {
      "text/plain": [
       "([1, 2, 3, 4], [1, 2, 3, 4])"
      ]
     },
     "execution_count": 3,
     "metadata": {},
     "output_type": "execute_result"
    }
   ],
   "source": [
    "lst1,lst2"
   ]
  },
  {
   "cell_type": "code",
   "execution_count": 4,
   "id": "b19b34ef",
   "metadata": {},
   "outputs": [],
   "source": [
    "lst2[1] = 1000"
   ]
  },
  {
   "cell_type": "code",
   "execution_count": 6,
   "id": "b1d79f9f",
   "metadata": {},
   "outputs": [
    {
     "data": {
      "text/plain": [
       "([1, 1000, 3, 4], [1, 1000, 3, 4])"
      ]
     },
     "execution_count": 6,
     "metadata": {},
     "output_type": "execute_result"
    }
   ],
   "source": [
    "lst2  , lst1 ## Both variables are referring to the same memory location"
   ]
  },
  {
   "cell_type": "code",
   "execution_count": null,
   "id": "82f4eef3",
   "metadata": {},
   "outputs": [],
   "source": []
  },
  {
   "cell_type": "code",
   "execution_count": null,
   "id": "43ab78ea",
   "metadata": {},
   "outputs": [],
   "source": []
  },
  {
   "cell_type": "markdown",
   "id": "a49ccc2b",
   "metadata": {},
   "source": [
    "# Shallow copy "
   ]
  },
  {
   "cell_type": "code",
   "execution_count": 7,
   "id": "f84e96f2",
   "metadata": {},
   "outputs": [],
   "source": [
    "lst1  = [1,2,3,4]\n",
    "lst2= lst1.copy()"
   ]
  },
  {
   "cell_type": "code",
   "execution_count": 8,
   "id": "ef521500",
   "metadata": {},
   "outputs": [
    {
     "data": {
      "text/plain": [
       "([1, 2, 3, 4], [1, 2, 3, 4])"
      ]
     },
     "execution_count": 8,
     "metadata": {},
     "output_type": "execute_result"
    }
   ],
   "source": [
    "lst1 , lst2"
   ]
  },
  {
   "cell_type": "code",
   "execution_count": 9,
   "id": "a6f54301",
   "metadata": {},
   "outputs": [],
   "source": [
    "lst2[1] = 100"
   ]
  },
  {
   "cell_type": "code",
   "execution_count": 10,
   "id": "29fc419d",
   "metadata": {},
   "outputs": [
    {
     "data": {
      "text/plain": [
       "([1, 2, 3, 4], [1, 100, 3, 4])"
      ]
     },
     "execution_count": 10,
     "metadata": {},
     "output_type": "execute_result"
    }
   ],
   "source": [
    "lst1 , lst2"
   ]
  },
  {
   "cell_type": "code",
   "execution_count": null,
   "id": "6750a83f",
   "metadata": {},
   "outputs": [],
   "source": []
  },
  {
   "cell_type": "code",
   "execution_count": 11,
   "id": "5fcbd33e",
   "metadata": {},
   "outputs": [],
   "source": [
    "## Nested list\n",
    "\n",
    "lst1 = [[1,2,3] ,[4,5,6]]\n",
    "lst2 = lst1.copy()"
   ]
  },
  {
   "cell_type": "code",
   "execution_count": 12,
   "id": "c9c53051",
   "metadata": {},
   "outputs": [
    {
     "data": {
      "text/plain": [
       "4"
      ]
     },
     "execution_count": 12,
     "metadata": {},
     "output_type": "execute_result"
    }
   ],
   "source": [
    "lst1[1][0]"
   ]
  },
  {
   "cell_type": "code",
   "execution_count": 13,
   "id": "7b4595fc",
   "metadata": {},
   "outputs": [],
   "source": [
    "lst1[1][0] = 1000"
   ]
  },
  {
   "cell_type": "code",
   "execution_count": 14,
   "id": "1c1816ec",
   "metadata": {},
   "outputs": [
    {
     "data": {
      "text/plain": [
       "([[1, 2, 3], [1000, 5, 6]], [[1, 2, 3], [1000, 5, 6]])"
      ]
     },
     "execution_count": 14,
     "metadata": {},
     "output_type": "execute_result"
    }
   ],
   "source": [
    "lst1 , lst2"
   ]
  },
  {
   "cell_type": "code",
   "execution_count": null,
   "id": "fdf47154",
   "metadata": {},
   "outputs": [],
   "source": []
  },
  {
   "cell_type": "code",
   "execution_count": null,
   "id": "d2c947e3",
   "metadata": {},
   "outputs": [],
   "source": []
  },
  {
   "cell_type": "code",
   "execution_count": null,
   "id": "2d0ef003",
   "metadata": {},
   "outputs": [],
   "source": []
  },
  {
   "cell_type": "markdown",
   "id": "1f5c8629",
   "metadata": {},
   "source": [
    "# Deep Copy"
   ]
  },
  {
   "cell_type": "code",
   "execution_count": 15,
   "id": "2c8e8cee",
   "metadata": {},
   "outputs": [],
   "source": [
    "import copy "
   ]
  },
  {
   "cell_type": "code",
   "execution_count": 16,
   "id": "49d2311e",
   "metadata": {},
   "outputs": [],
   "source": [
    "lst1 = [1,2,3]\n",
    "lst2 = copy.deepcopy(lst1)"
   ]
  },
  {
   "cell_type": "code",
   "execution_count": 17,
   "id": "09bc8ccc",
   "metadata": {},
   "outputs": [
    {
     "data": {
      "text/plain": [
       "([1, 2, 3], [1, 2, 3])"
      ]
     },
     "execution_count": 17,
     "metadata": {},
     "output_type": "execute_result"
    }
   ],
   "source": [
    "lst1 , lst2"
   ]
  },
  {
   "cell_type": "code",
   "execution_count": 18,
   "id": "f96f08f7",
   "metadata": {},
   "outputs": [],
   "source": [
    "lst2[2] = 1000"
   ]
  },
  {
   "cell_type": "code",
   "execution_count": 19,
   "id": "ebfd44ea",
   "metadata": {},
   "outputs": [
    {
     "data": {
      "text/plain": [
       "([1, 2, 3], [1, 2, 1000])"
      ]
     },
     "execution_count": 19,
     "metadata": {},
     "output_type": "execute_result"
    }
   ],
   "source": [
    "lst1 , lst2"
   ]
  },
  {
   "cell_type": "code",
   "execution_count": null,
   "id": "ecab398a",
   "metadata": {},
   "outputs": [],
   "source": []
  },
  {
   "cell_type": "code",
   "execution_count": 20,
   "id": "69b5ad92",
   "metadata": {},
   "outputs": [],
   "source": [
    "## Nested list\n",
    "\n",
    "lst1 = [[1,2,3,4] , [5,6,7,8]]\n",
    "lst2 = copy.deepcopy(lst1)"
   ]
  },
  {
   "cell_type": "code",
   "execution_count": 21,
   "id": "4d6fb3ea",
   "metadata": {},
   "outputs": [
    {
     "data": {
      "text/plain": [
       "5"
      ]
     },
     "execution_count": 21,
     "metadata": {},
     "output_type": "execute_result"
    }
   ],
   "source": [
    "lst1[1][0]"
   ]
  },
  {
   "cell_type": "code",
   "execution_count": 22,
   "id": "0143e74c",
   "metadata": {},
   "outputs": [],
   "source": [
    "lst1[1][0] = 1000"
   ]
  },
  {
   "cell_type": "code",
   "execution_count": 23,
   "id": "139132c5",
   "metadata": {},
   "outputs": [
    {
     "data": {
      "text/plain": [
       "([[1, 2, 3, 4], [1000, 6, 7, 8]], [[1, 2, 3, 4], [5, 6, 7, 8]])"
      ]
     },
     "execution_count": 23,
     "metadata": {},
     "output_type": "execute_result"
    }
   ],
   "source": [
    "lst1 , lst2"
   ]
  }
 ],
 "metadata": {
  "kernelspec": {
   "display_name": "Python 3 (ipykernel)",
   "language": "python",
   "name": "python3"
  },
  "language_info": {
   "codemirror_mode": {
    "name": "ipython",
    "version": 3
   },
   "file_extension": ".py",
   "mimetype": "text/x-python",
   "name": "python",
   "nbconvert_exporter": "python",
   "pygments_lexer": "ipython3",
   "version": "3.10.4"
  }
 },
 "nbformat": 4,
 "nbformat_minor": 5
}
